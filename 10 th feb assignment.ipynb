{
 "cells": [
  {
   "cell_type": "code",
   "execution_count": 1,
   "id": "c2a3d226-ab9b-4a0e-a15a-07f3df80caed",
   "metadata": {},
   "outputs": [],
   "source": [
    "# Q1. Which function is used to open a file? What are the different modes of opening a file? Explain each mode\n",
    "# of file opening."
   ]
  },
  {
   "cell_type": "code",
   "execution_count": 2,
   "id": "1255457b-58a2-435b-8770-08ae98299893",
   "metadata": {},
   "outputs": [],
   "source": [
    "# Ans= \"Open\" function is used to open a file in python. The total 8 modes of opening a file like\n",
    "# 'r'       open for reading (default)\n",
    "# 'w'       open for writing, truncating the file first\n",
    "# 'x'       create a new file and open it for writing\n",
    "# 'a'       open for writing, appending to the end of the file if it exists\n",
    "# 'b'       binary mode\n",
    "# 't'       text mode (default)\n",
    "# '+'       open a disk file for updating (reading and writing)\n",
    "# 'U'       universal newline mode (deprecated)"
   ]
  },
  {
   "cell_type": "code",
   "execution_count": 3,
   "id": "03e07097-a359-4335-a344-70616a8be1a7",
   "metadata": {},
   "outputs": [],
   "source": [
    "# \"r\" = 'r' is used to open a file for reading.\n",
    "# \"w\" = 'w' is used to write in a file but this mode delete the data already availabel in file.\n",
    "# \"x\" = 'x' is used to create a new file and write in the file.\n",
    "# \"a\" = 'a' is used to append the writing this mode does not delete the data in this mode the writing is appended.\n",
    "# \"b\" = 'b' is used to open a file in binary mode which one human don't understand.\n",
    "# \"t\" = 't' is used to open a data in string mode.\n",
    "# \"+\" = '+' is used to reading or writing to an existing open mode.\n",
    "# \"u\" = 'u' A Unicode is a way for a string to represent more characters than a regular ASCII string can"
   ]
  },
  {
   "cell_type": "code",
   "execution_count": 4,
   "id": "3763dc9d-5171-43d4-b262-28842b68e4c0",
   "metadata": {},
   "outputs": [],
   "source": [
    "# Q2. Why close() function is used? Why is it important to close a file?"
   ]
  },
  {
   "cell_type": "code",
   "execution_count": 5,
   "id": "80f073b8-030d-4960-9644-5b678bb5a73e",
   "metadata": {},
   "outputs": [],
   "source": [
    "# Ans 'close' function is used to close the opening file .\n",
    "# Because files are limited resources managed by the operating system, making sure files are closed \n",
    "# after use will protect against hard-to-debug issues like running out of file handles or experiencing corrupted \n",
    "# data. The best defense is always to open files with a context manager."
   ]
  },
  {
   "cell_type": "code",
   "execution_count": 6,
   "id": "4f6b84d6-fc98-4789-8c8a-a902fb2134c6",
   "metadata": {},
   "outputs": [],
   "source": [
    "# Q3. Write a python program to create a text file. Write ‘I want to become a Data Scientist’ in that file. Then\n",
    "# close the file. Open this file and read the content of the file."
   ]
  },
  {
   "cell_type": "code",
   "execution_count": 24,
   "id": "2ddf9435-ecc8-4b0d-b580-e2a548cafa51",
   "metadata": {},
   "outputs": [
    {
     "data": {
      "text/plain": [
       "33"
      ]
     },
     "execution_count": 24,
     "metadata": {},
     "output_type": "execute_result"
    }
   ],
   "source": [
    "# Ans =\n",
    "A= open(\"assign.txt\",'w')\n",
    "A.write(\"i want to become a Data Scientist\")"
   ]
  },
  {
   "cell_type": "code",
   "execution_count": 25,
   "id": "699d1c15-3f47-4c97-8cef-d369539d2965",
   "metadata": {},
   "outputs": [],
   "source": [
    "A.close()"
   ]
  },
  {
   "cell_type": "code",
   "execution_count": 26,
   "id": "4940caea-fc43-4f7b-b0a9-bcaa66e27617",
   "metadata": {},
   "outputs": [],
   "source": [
    "A= open(\"assign.txt\",'r')\n"
   ]
  },
  {
   "cell_type": "code",
   "execution_count": 27,
   "id": "e1d97bf1-4291-4af5-b1cc-c3b02c4ef909",
   "metadata": {},
   "outputs": [
    {
     "data": {
      "text/plain": [
       "'i want to become a Data Scientist'"
      ]
     },
     "execution_count": 27,
     "metadata": {},
     "output_type": "execute_result"
    }
   ],
   "source": [
    "A.read()"
   ]
  },
  {
   "cell_type": "code",
   "execution_count": 30,
   "id": "1c586c09-6cec-4f01-ab8e-3a8a4fc20116",
   "metadata": {},
   "outputs": [],
   "source": [
    "# Q4. Explain the following with python code: read(), readline() and readlines().Re"
   ]
  },
  {
   "cell_type": "code",
   "execution_count": 31,
   "id": "8cf4d401-5e3a-4c8f-941a-686d28523454",
   "metadata": {},
   "outputs": [],
   "source": [
    "# Ans=\n",
    "# Read= 'read' is used to read the file \n",
    "# Readline = 'readline' is used to read the file data line by line\n",
    "# Readlines = 'readlines' is used to return each line of file as a list."
   ]
  },
  {
   "cell_type": "code",
   "execution_count": 32,
   "id": "dd96c060-fd37-4974-a20d-fdeef81f5469",
   "metadata": {},
   "outputs": [],
   "source": [
    "# Q5. Explain why with statement is used with open(). What is the advantage of using with statement and\n",
    "# open() together?"
   ]
  },
  {
   "cell_type": "code",
   "execution_count": 34,
   "id": "a20314bc-0c76-4ca3-94a3-759b4b45fdb5",
   "metadata": {},
   "outputs": [],
   "source": [
    "# Ans\n",
    "# with statement is used to open and close file without calling 'close' file function.\n",
    "# Advantage of 'with open' \n",
    "# Using with means that the file will be closed as soon as you leave the block. \n",
    "# This is beneficial because closing a file is something that can easily be forgotten \n",
    "# and ties up resources that you no longer need."
   ]
  },
  {
   "cell_type": "code",
   "execution_count": 36,
   "id": "1aea5e78-2bbb-4902-9c83-bc74880b76b2",
   "metadata": {},
   "outputs": [],
   "source": [
    "# Q6. Explain the write() and writelines() functions. Give a suitable example."
   ]
  },
  {
   "cell_type": "code",
   "execution_count": 37,
   "id": "ea01330a-056e-46ab-bc02-410594eacc03",
   "metadata": {},
   "outputs": [],
   "source": [
    "# Ans=  write function is used to write a single string to a file for example:-\n",
    "with open('example.txt', 'w') as f:\n",
    "    f.write('Hello, world!')\n"
   ]
  },
  {
   "cell_type": "code",
   "execution_count": 40,
   "id": "c2a890e9-afb1-4ba2-a882-27f663f25674",
   "metadata": {},
   "outputs": [],
   "source": [
    "# The writelines() function is used to write a sequence of \n",
    "# strings to a file. It takes a single argument, which is a sequence of strings\n",
    "lines = ['apple\\n', 'banana\\n', 'cherry\\n']\n",
    "\n",
    "with open('fruits.txt', 'w') as f:\n",
    "    f.writelines(lines)\n"
   ]
  },
  {
   "cell_type": "code",
   "execution_count": null,
   "id": "e53657d4-32e6-4646-bcd2-e448e416c7e4",
   "metadata": {},
   "outputs": [],
   "source": []
  }
 ],
 "metadata": {
  "kernelspec": {
   "display_name": "Python 3 (ipykernel)",
   "language": "python",
   "name": "python3"
  },
  "language_info": {
   "codemirror_mode": {
    "name": "ipython",
    "version": 3
   },
   "file_extension": ".py",
   "mimetype": "text/x-python",
   "name": "python",
   "nbconvert_exporter": "python",
   "pygments_lexer": "ipython3",
   "version": "3.10.8"
  }
 },
 "nbformat": 4,
 "nbformat_minor": 5
}
